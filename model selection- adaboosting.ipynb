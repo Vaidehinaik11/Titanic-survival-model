{
 "cells": [
  {
   "cell_type": "markdown",
   "id": "e91a637c",
   "metadata": {},
   "source": [
    "## Import require packages and files"
   ]
  },
  {
   "cell_type": "code",
   "execution_count": 1,
   "id": "17a03365",
   "metadata": {},
   "outputs": [],
   "source": [
    "import pandas as pd\n",
    "\n",
    "from sklearn.ensemble import AdaBoostClassifier\n",
    "from sklearn.model_selection import GridSearchCV\n",
    "from sklearn.metrics import classification_report,confusion_matrix, recall_score,precision_score,accuracy_score,f1_score\n",
    "\n",
    "import joblib"
   ]
  },
  {
   "cell_type": "code",
   "execution_count": 2,
   "id": "70fd606b",
   "metadata": {},
   "outputs": [],
   "source": [
    "xtrain = pd.read_csv('xtrain.csv')\n",
    "xtest = pd.read_csv('xtest.csv')\n",
    "ytrain = pd.read_csv('ytrain.csv')\n",
    "ytest= pd.read_csv('ytest.csv')"
   ]
  },
  {
   "cell_type": "code",
   "execution_count": 3,
   "id": "7690cd3d",
   "metadata": {},
   "outputs": [],
   "source": [
    "yt = ytrain.to_numpy()\n",
    "yte = ytest.to_numpy()"
   ]
  },
  {
   "cell_type": "code",
   "execution_count": 4,
   "id": "f18e94e3",
   "metadata": {},
   "outputs": [],
   "source": [
    "y_train = yt.ravel()\n",
    "y_test = yte.ravel()"
   ]
  },
  {
   "cell_type": "code",
   "execution_count": 5,
   "id": "caf41015",
   "metadata": {},
   "outputs": [
    {
     "name": "stdout",
     "output_type": "stream",
     "text": [
      "(179, 10)\n",
      "(712, 10)\n",
      "(179,)\n",
      "(712,)\n"
     ]
    }
   ],
   "source": [
    "print(xtest.shape);\n",
    "print(xtrain.shape);\n",
    "print(y_test.shape);\n",
    "print(y_train.shape)"
   ]
  },
  {
   "cell_type": "code",
   "execution_count": 6,
   "id": "f825cef9",
   "metadata": {},
   "outputs": [
    {
     "name": "stdout",
     "output_type": "stream",
     "text": [
      "Index(['Pclass', 'Age', 'SibSp', 'Parch', 'Fare', 'female', 'male', 'C', 'Q',\n",
      "       'S'],\n",
      "      dtype='object')\n",
      "Index(['Pclass', 'Age', 'SibSp', 'Parch', 'Fare', 'female', 'male', 'C', 'Q',\n",
      "       'S'],\n",
      "      dtype='object')\n"
     ]
    }
   ],
   "source": [
    "print(xtest.columns);\n",
    "print(xtrain.columns);"
   ]
  },
  {
   "cell_type": "markdown",
   "id": "95312f63",
   "metadata": {},
   "source": [
    "## Model building"
   ]
  },
  {
   "cell_type": "code",
   "execution_count": 7,
   "id": "f7b4956d",
   "metadata": {},
   "outputs": [],
   "source": [
    "abc = AdaBoostClassifier()"
   ]
  },
  {
   "cell_type": "code",
   "execution_count": 8,
   "id": "615a51f7",
   "metadata": {},
   "outputs": [
    {
     "data": {
      "text/plain": [
       "AdaBoostClassifier()"
      ]
     },
     "execution_count": 8,
     "metadata": {},
     "output_type": "execute_result"
    }
   ],
   "source": [
    "abc.fit(xtrain, y_train)"
   ]
  },
  {
   "cell_type": "markdown",
   "id": "1c176aa1",
   "metadata": {},
   "source": [
    "### predict "
   ]
  },
  {
   "cell_type": "code",
   "execution_count": 9,
   "id": "af3b6637",
   "metadata": {},
   "outputs": [],
   "source": [
    "train_predict = abc.predict(xtrain)\n",
    "test_predict = abc.predict(xtest)"
   ]
  },
  {
   "cell_type": "markdown",
   "id": "633a441c",
   "metadata": {},
   "source": [
    "### Evaluate the model"
   ]
  },
  {
   "cell_type": "code",
   "execution_count": 10,
   "id": "f557cc43",
   "metadata": {},
   "outputs": [],
   "source": [
    "def evaluate_model(act, pred):\n",
    "    print(\"Confusion Matrix \\n\", confusion_matrix(act, pred))\n",
    "    print(\"Accuracy : \", accuracy_score(act, pred))\n",
    "    print(\"Recall   : \", recall_score(act, pred))\n",
    "    print(\"Precision: \", precision_score(act, pred))\n",
    "    print(\"F1_score : \", f1_score(act, pred))"
   ]
  },
  {
   "cell_type": "code",
   "execution_count": 11,
   "id": "340e4ffa",
   "metadata": {},
   "outputs": [
    {
     "name": "stdout",
     "output_type": "stream",
     "text": [
      "----------------train predictions---------------\n",
      "Confusion Matrix \n",
      " [[385  51]\n",
      " [ 67 209]]\n",
      "Accuracy :  0.8342696629213483\n",
      "Recall   :  0.7572463768115942\n",
      "Precision:  0.8038461538461539\n",
      "F1_score :  0.7798507462686567\n",
      "---------------------test predictions----------\n",
      "Confusion Matrix \n",
      " [[96 17]\n",
      " [20 46]]\n",
      "Accuracy :  0.7932960893854749\n",
      "Recall   :  0.696969696969697\n",
      "Precision:  0.7301587301587301\n",
      "F1_score :  0.7131782945736433\n"
     ]
    }
   ],
   "source": [
    "### Train data accuracy\n",
    "print('----------------train predictions---------------')\n",
    "evaluate_model(ytrain, train_predict)\n",
    "\n",
    "### Test data accuracy\n",
    "print('---------------------test predictions----------')\n",
    "evaluate_model(ytest, test_predict)"
   ]
  },
  {
   "cell_type": "markdown",
   "id": "5b4b1393",
   "metadata": {},
   "source": [
    "### Model selection using Gridsearchcv"
   ]
  },
  {
   "cell_type": "code",
   "execution_count": 12,
   "id": "aa634ec7",
   "metadata": {},
   "outputs": [],
   "source": [
    "grid = {\"n_estimators\" : [50, 100, 150],\n",
    "            \"learning_rate\" : [0.5,1,1.5]}"
   ]
  },
  {
   "cell_type": "code",
   "execution_count": 13,
   "id": "9f94c10b",
   "metadata": {},
   "outputs": [],
   "source": [
    "model_grid = GridSearchCV(abc, grid)"
   ]
  },
  {
   "cell_type": "code",
   "execution_count": 14,
   "id": "cc1316bb",
   "metadata": {},
   "outputs": [
    {
     "data": {
      "text/plain": [
       "GridSearchCV(estimator=AdaBoostClassifier(),\n",
       "             param_grid={'learning_rate': [0.5, 1, 1.5],\n",
       "                         'n_estimators': [50, 100, 150]})"
      ]
     },
     "execution_count": 14,
     "metadata": {},
     "output_type": "execute_result"
    }
   ],
   "source": [
    "model_grid.fit(xtrain, y_train)"
   ]
  },
  {
   "cell_type": "markdown",
   "id": "67999ac5",
   "metadata": {},
   "source": [
    "## model_grid.fit(xtrain, y_train)"
   ]
  },
  {
   "cell_type": "code",
   "execution_count": 15,
   "id": "98771fd0",
   "metadata": {},
   "outputs": [
    {
     "data": {
      "text/plain": [
       "{'learning_rate': 0.5, 'n_estimators': 100}"
      ]
     },
     "execution_count": 15,
     "metadata": {},
     "output_type": "execute_result"
    }
   ],
   "source": [
    "model_grid.best_params_"
   ]
  },
  {
   "cell_type": "markdown",
   "id": "6a3b6913",
   "metadata": {},
   "source": [
    "### Predict"
   ]
  },
  {
   "cell_type": "code",
   "execution_count": 16,
   "id": "ae75b083",
   "metadata": {},
   "outputs": [],
   "source": [
    "train_pred = model_grid.predict(xtrain)\n",
    "test_pred = model_grid.predict(xtest)"
   ]
  },
  {
   "cell_type": "markdown",
   "id": "fb2b63d7",
   "metadata": {},
   "source": [
    "### Evaluate model"
   ]
  },
  {
   "cell_type": "code",
   "execution_count": 17,
   "id": "e1758c4a",
   "metadata": {},
   "outputs": [
    {
     "name": "stdout",
     "output_type": "stream",
     "text": [
      "----------------train predictions---------------\n",
      "Confusion Matrix \n",
      " [[384  52]\n",
      " [ 69 207]]\n",
      "Accuracy :  0.8300561797752809\n",
      "Recall   :  0.75\n",
      "Precision:  0.7992277992277992\n",
      "F1_score :  0.7738317757009345\n",
      "---------------------test predictions----------\n",
      "Confusion Matrix \n",
      " [[97 16]\n",
      " [21 45]]\n",
      "Accuracy :  0.7932960893854749\n",
      "Recall   :  0.6818181818181818\n",
      "Precision:  0.7377049180327869\n",
      "F1_score :  0.7086614173228346\n"
     ]
    }
   ],
   "source": [
    "### Train data accuracy\n",
    "print('----------------train predictions---------------')\n",
    "evaluate_model(ytrain, train_pred)\n",
    "\n",
    "### Test data accuracy\n",
    "print('---------------------test predictions----------')\n",
    "evaluate_model(ytest, test_pred)"
   ]
  },
  {
   "cell_type": "markdown",
   "id": "405569b1",
   "metadata": {},
   "source": [
    "### Export best model"
   ]
  },
  {
   "cell_type": "code",
   "execution_count": 18,
   "id": "cb03814b",
   "metadata": {},
   "outputs": [],
   "source": [
    "ab = AdaBoostClassifier(learning_rate = 0.5, n_estimators = 100)"
   ]
  },
  {
   "cell_type": "code",
   "execution_count": 19,
   "id": "384ab073",
   "metadata": {},
   "outputs": [
    {
     "data": {
      "text/plain": [
       "AdaBoostClassifier(learning_rate=0.5, n_estimators=100)"
      ]
     },
     "execution_count": 19,
     "metadata": {},
     "output_type": "execute_result"
    }
   ],
   "source": [
    "ab.fit(xtrain, y_train)"
   ]
  },
  {
   "cell_type": "code",
   "execution_count": 20,
   "id": "93c10917",
   "metadata": {},
   "outputs": [
    {
     "data": {
      "text/plain": [
       "['Adaboostcassifier.joblib']"
      ]
     },
     "execution_count": 20,
     "metadata": {},
     "output_type": "execute_result"
    }
   ],
   "source": [
    "joblib.dump(ab,'Adaboostcassifier.joblib')"
   ]
  }
 ],
 "metadata": {
  "kernelspec": {
   "display_name": "Python 3 (ipykernel)",
   "language": "python",
   "name": "python3"
  },
  "language_info": {
   "codemirror_mode": {
    "name": "ipython",
    "version": 3
   },
   "file_extension": ".py",
   "mimetype": "text/x-python",
   "name": "python",
   "nbconvert_exporter": "python",
   "pygments_lexer": "ipython3",
   "version": "3.9.13"
  }
 },
 "nbformat": 4,
 "nbformat_minor": 5
}
