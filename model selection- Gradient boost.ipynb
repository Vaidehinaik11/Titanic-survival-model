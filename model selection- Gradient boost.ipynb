{
 "cells": [
  {
   "cell_type": "markdown",
   "id": "3defc992",
   "metadata": {},
   "source": [
    "## Import all packages and files required"
   ]
  },
  {
   "cell_type": "code",
   "execution_count": 1,
   "id": "36237307",
   "metadata": {},
   "outputs": [],
   "source": [
    "import pandas as pd\n",
    "\n",
    "from sklearn.ensemble import GradientBoostingClassifier\n",
    "from sklearn.model_selection import GridSearchCV\n",
    "from sklearn.metrics import classification_report,confusion_matrix, recall_score,precision_score,accuracy_score,f1_score\n",
    "\n",
    "import joblib"
   ]
  },
  {
   "cell_type": "code",
   "execution_count": 2,
   "id": "156ff703",
   "metadata": {},
   "outputs": [],
   "source": [
    "xtrain = pd.read_csv('xtrain.csv')\n",
    "xtest = pd.read_csv('xtest.csv')\n",
    "ytrain = pd.read_csv('ytrain.csv')\n",
    "ytest= pd.read_csv('ytest.csv')"
   ]
  },
  {
   "cell_type": "code",
   "execution_count": 3,
   "id": "0904c359",
   "metadata": {},
   "outputs": [],
   "source": [
    "yt = ytrain.to_numpy()\n",
    "yte = ytest.to_numpy()"
   ]
  },
  {
   "cell_type": "code",
   "execution_count": 4,
   "id": "0a209e70",
   "metadata": {},
   "outputs": [],
   "source": [
    "y_train = yt.ravel()\n",
    "y_test = yte.ravel()"
   ]
  },
  {
   "cell_type": "code",
   "execution_count": 5,
   "id": "8b3e8034",
   "metadata": {},
   "outputs": [
    {
     "name": "stdout",
     "output_type": "stream",
     "text": [
      "(179, 10)\n",
      "(712, 10)\n",
      "(179,)\n",
      "(712,)\n"
     ]
    }
   ],
   "source": [
    "print(xtest.shape);\n",
    "print(xtrain.shape);\n",
    "print(y_test.shape);\n",
    "print(y_train.shape)"
   ]
  },
  {
   "cell_type": "code",
   "execution_count": 6,
   "id": "2a98130f",
   "metadata": {},
   "outputs": [
    {
     "name": "stdout",
     "output_type": "stream",
     "text": [
      "Index(['Pclass', 'Age', 'SibSp', 'Parch', 'Fare', 'female', 'male', 'C', 'Q',\n",
      "       'S'],\n",
      "      dtype='object')\n",
      "Index(['Pclass', 'Age', 'SibSp', 'Parch', 'Fare', 'female', 'male', 'C', 'Q',\n",
      "       'S'],\n",
      "      dtype='object')\n"
     ]
    }
   ],
   "source": [
    "print(xtest.columns);\n",
    "print(xtrain.columns);"
   ]
  },
  {
   "cell_type": "markdown",
   "id": "a320a74a",
   "metadata": {},
   "source": [
    "### Model building"
   ]
  },
  {
   "cell_type": "code",
   "execution_count": 7,
   "id": "9f37edcd",
   "metadata": {},
   "outputs": [],
   "source": [
    "gbc = GradientBoostingClassifier()"
   ]
  },
  {
   "cell_type": "code",
   "execution_count": 8,
   "id": "13f35132",
   "metadata": {},
   "outputs": [
    {
     "data": {
      "text/plain": [
       "GradientBoostingClassifier()"
      ]
     },
     "execution_count": 8,
     "metadata": {},
     "output_type": "execute_result"
    }
   ],
   "source": [
    "gbc.fit(xtrain,y_train)"
   ]
  },
  {
   "cell_type": "markdown",
   "id": "dd309274",
   "metadata": {},
   "source": [
    "### predict"
   ]
  },
  {
   "cell_type": "code",
   "execution_count": 9,
   "id": "322e555f",
   "metadata": {},
   "outputs": [],
   "source": [
    "train_predict = gbc.predict(xtrain)\n",
    "test_predict = gbc.predict(xtest)"
   ]
  },
  {
   "cell_type": "markdown",
   "id": "94f761ea",
   "metadata": {},
   "source": [
    "### Evaluate the model"
   ]
  },
  {
   "cell_type": "code",
   "execution_count": 10,
   "id": "d21fcb5a",
   "metadata": {},
   "outputs": [],
   "source": [
    "def evaluate_model(act, pred):\n",
    "    print(\"Confusion Matrix \\n\", confusion_matrix(act, pred))\n",
    "    print(\"Accuracy : \", accuracy_score(act, pred))\n",
    "    print(\"Recall   : \", recall_score(act, pred))\n",
    "    print(\"Precision: \", precision_score(act, pred))\n",
    "    print(\"F1_score : \", f1_score(act, pred))"
   ]
  },
  {
   "cell_type": "code",
   "execution_count": 11,
   "id": "3a2e4d53",
   "metadata": {},
   "outputs": [
    {
     "name": "stdout",
     "output_type": "stream",
     "text": [
      "----------------train predictions---------------\n",
      "Confusion Matrix \n",
      " [[421  15]\n",
      " [ 58 218]]\n",
      "Accuracy :  0.8974719101123596\n",
      "Recall   :  0.7898550724637681\n",
      "Precision:  0.9356223175965666\n",
      "F1_score :  0.8565815324165029\n",
      "---------------------test predictions----------\n",
      "Confusion Matrix \n",
      " [[103  10]\n",
      " [ 17  49]]\n",
      "Accuracy :  0.8491620111731844\n",
      "Recall   :  0.7424242424242424\n",
      "Precision:  0.8305084745762712\n",
      "F1_score :  0.784\n"
     ]
    }
   ],
   "source": [
    "### Train data accuracy\n",
    "print('----------------train predictions---------------')\n",
    "evaluate_model(ytrain, train_predict)\n",
    "\n",
    "### Test data accuracy\n",
    "print('---------------------test predictions----------')\n",
    "evaluate_model(ytest, test_predict)"
   ]
  },
  {
   "cell_type": "markdown",
   "id": "8bce620b",
   "metadata": {},
   "source": [
    "### Model selection using GridSearchCV"
   ]
  },
  {
   "cell_type": "code",
   "execution_count": 12,
   "id": "e70ea71f",
   "metadata": {},
   "outputs": [],
   "source": [
    "grid = {'n_estimators':[100,50],\n",
    "        'learning_rate':[0.3,0.2],\n",
    "       'max_depth':[3,1],\n",
    "       'min_samples_leaf':[5,3]}"
   ]
  },
  {
   "cell_type": "code",
   "execution_count": 13,
   "id": "c27899d4",
   "metadata": {},
   "outputs": [],
   "source": [
    "gbc_grid = GridSearchCV(gbc, grid)"
   ]
  },
  {
   "cell_type": "code",
   "execution_count": 14,
   "id": "7fae8182",
   "metadata": {},
   "outputs": [
    {
     "data": {
      "text/plain": [
       "GridSearchCV(estimator=GradientBoostingClassifier(),\n",
       "             param_grid={'learning_rate': [0.3, 0.2], 'max_depth': [3, 1],\n",
       "                         'min_samples_leaf': [5, 3],\n",
       "                         'n_estimators': [100, 50]})"
      ]
     },
     "execution_count": 14,
     "metadata": {},
     "output_type": "execute_result"
    }
   ],
   "source": [
    "gbc_grid.fit(xtrain, y_train)"
   ]
  },
  {
   "cell_type": "code",
   "execution_count": 15,
   "id": "5153bd95",
   "metadata": {},
   "outputs": [
    {
     "data": {
      "text/plain": [
       "{'learning_rate': 0.2,\n",
       " 'max_depth': 3,\n",
       " 'min_samples_leaf': 3,\n",
       " 'n_estimators': 100}"
      ]
     },
     "execution_count": 15,
     "metadata": {},
     "output_type": "execute_result"
    }
   ],
   "source": [
    "gbc_grid.best_params_"
   ]
  },
  {
   "cell_type": "markdown",
   "id": "00c55260",
   "metadata": {},
   "source": [
    "### Predict"
   ]
  },
  {
   "cell_type": "code",
   "execution_count": 16,
   "id": "77c36e17",
   "metadata": {},
   "outputs": [],
   "source": [
    "train_pred = gbc_grid.predict(xtrain)\n",
    "test_pred = gbc_grid.predict(xtest)"
   ]
  },
  {
   "cell_type": "markdown",
   "id": "d93ca893",
   "metadata": {},
   "source": [
    "### Evaluate model"
   ]
  },
  {
   "cell_type": "code",
   "execution_count": 17,
   "id": "e9c9c8a2",
   "metadata": {},
   "outputs": [
    {
     "name": "stdout",
     "output_type": "stream",
     "text": [
      "----------------train predictions---------------\n",
      "Confusion Matrix \n",
      " [[427   9]\n",
      " [ 44 232]]\n",
      "Accuracy :  0.925561797752809\n",
      "Recall   :  0.8405797101449275\n",
      "Precision:  0.9626556016597511\n",
      "F1_score :  0.8974854932301741\n",
      "---------------------test predictions----------\n",
      "Confusion Matrix \n",
      " [[103  10]\n",
      " [ 17  49]]\n",
      "Accuracy :  0.8491620111731844\n",
      "Recall   :  0.7424242424242424\n",
      "Precision:  0.8305084745762712\n",
      "F1_score :  0.784\n"
     ]
    }
   ],
   "source": [
    "### Train data accuracy\n",
    "print('----------------train predictions---------------')\n",
    "evaluate_model(ytrain, train_pred)\n",
    "\n",
    "### Test data accuracy\n",
    "print('---------------------test predictions----------')\n",
    "evaluate_model(ytest, test_pred)"
   ]
  },
  {
   "cell_type": "markdown",
   "id": "ac84ffab",
   "metadata": {},
   "source": [
    "### Export best model"
   ]
  },
  {
   "cell_type": "code",
   "execution_count": 18,
   "id": "7db0857a",
   "metadata": {},
   "outputs": [],
   "source": [
    "gb = GradientBoostingClassifier(learning_rate = 0.2, n_estimators = 100,max_depth = 3,\n",
    " min_samples_leaf = 3)"
   ]
  },
  {
   "cell_type": "code",
   "execution_count": 19,
   "id": "7c2aa902",
   "metadata": {},
   "outputs": [
    {
     "data": {
      "text/plain": [
       "GradientBoostingClassifier(learning_rate=0.2, min_samples_leaf=3)"
      ]
     },
     "execution_count": 19,
     "metadata": {},
     "output_type": "execute_result"
    }
   ],
   "source": [
    "gb.fit(xtrain, y_train)"
   ]
  },
  {
   "cell_type": "code",
   "execution_count": 20,
   "id": "1f2ca7c3",
   "metadata": {},
   "outputs": [
    {
     "data": {
      "text/plain": [
       "['Gradientboostcassifier.joblib']"
      ]
     },
     "execution_count": 20,
     "metadata": {},
     "output_type": "execute_result"
    }
   ],
   "source": [
    "joblib.dump(gbc_grid,'Gradientboostcassifier.joblib')"
   ]
  },
  {
   "cell_type": "code",
   "execution_count": null,
   "id": "0c8ba0df",
   "metadata": {},
   "outputs": [],
   "source": []
  }
 ],
 "metadata": {
  "kernelspec": {
   "display_name": "Python 3 (ipykernel)",
   "language": "python",
   "name": "python3"
  },
  "language_info": {
   "codemirror_mode": {
    "name": "ipython",
    "version": 3
   },
   "file_extension": ".py",
   "mimetype": "text/x-python",
   "name": "python",
   "nbconvert_exporter": "python",
   "pygments_lexer": "ipython3",
   "version": "3.9.13"
  }
 },
 "nbformat": 4,
 "nbformat_minor": 5
}
