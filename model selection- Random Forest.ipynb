{
 "cells": [
  {
   "cell_type": "markdown",
   "id": "8b671fa7",
   "metadata": {},
   "source": [
    "## Import all pakages and file required"
   ]
  },
  {
   "cell_type": "code",
   "execution_count": 43,
   "id": "09af75a5",
   "metadata": {},
   "outputs": [],
   "source": [
    "import pandas as pd\n",
    "import numpy as np\n",
    "from sklearn.ensemble import RandomForestClassifier\n",
    "from sklearn.model_selection import GridSearchCV\n",
    "from sklearn.metrics import confusion_matrix, accuracy_score, recall_score, precision_score, f1_score\n",
    "\n",
    "import joblib"
   ]
  },
  {
   "cell_type": "code",
   "execution_count": 5,
   "id": "b4b2c4c4",
   "metadata": {},
   "outputs": [],
   "source": [
    "xtrain = pd.read_csv('xtrain.csv')\n",
    "xtest = pd.read_csv('xtest.csv')\n",
    "ytrain = pd.read_csv('ytrain.csv')\n",
    "ytest= pd.read_csv('ytest.csv')"
   ]
  },
  {
   "cell_type": "code",
   "execution_count": 6,
   "id": "50a41fe3",
   "metadata": {},
   "outputs": [],
   "source": [
    "yt = ytrain.to_numpy()\n",
    "yte = ytest.to_numpy()"
   ]
  },
  {
   "cell_type": "code",
   "execution_count": 7,
   "id": "add71611",
   "metadata": {},
   "outputs": [],
   "source": [
    "y_train = yt.ravel()\n",
    "y_test = yte.ravel()"
   ]
  },
  {
   "cell_type": "code",
   "execution_count": 8,
   "id": "6397ebb4",
   "metadata": {},
   "outputs": [
    {
     "name": "stdout",
     "output_type": "stream",
     "text": [
      "(179, 10)\n",
      "(712, 10)\n",
      "(179,)\n",
      "(712,)\n"
     ]
    }
   ],
   "source": [
    "print(xtest.shape);\n",
    "print(xtrain.shape);\n",
    "print(y_test.shape);\n",
    "print(y_train.shape)"
   ]
  },
  {
   "cell_type": "code",
   "execution_count": 9,
   "id": "1c074dda",
   "metadata": {},
   "outputs": [
    {
     "name": "stdout",
     "output_type": "stream",
     "text": [
      "Index(['Pclass', 'Age', 'SibSp', 'Parch', 'Fare', 'female', 'male', 'C', 'Q',\n",
      "       'S'],\n",
      "      dtype='object')\n",
      "Index(['Pclass', 'Age', 'SibSp', 'Parch', 'Fare', 'female', 'male', 'C', 'Q',\n",
      "       'S'],\n",
      "      dtype='object')\n"
     ]
    }
   ],
   "source": [
    "print(xtest.columns);\n",
    "print(xtrain.columns);"
   ]
  },
  {
   "cell_type": "markdown",
   "id": "502eacb6",
   "metadata": {},
   "source": [
    "## Model building"
   ]
  },
  {
   "cell_type": "code",
   "execution_count": 10,
   "id": "fff96074",
   "metadata": {},
   "outputs": [],
   "source": [
    "rfc = RandomForestClassifier()"
   ]
  },
  {
   "cell_type": "code",
   "execution_count": 11,
   "id": "dc0e6e4c",
   "metadata": {},
   "outputs": [
    {
     "data": {
      "text/plain": [
       "RandomForestClassifier()"
      ]
     },
     "execution_count": 11,
     "metadata": {},
     "output_type": "execute_result"
    }
   ],
   "source": [
    "rfc.fit(xtrain, y_train)"
   ]
  },
  {
   "cell_type": "markdown",
   "id": "78d298ff",
   "metadata": {},
   "source": [
    "### predict"
   ]
  },
  {
   "cell_type": "code",
   "execution_count": 12,
   "id": "8320b099",
   "metadata": {},
   "outputs": [],
   "source": [
    "train_predict = rfc.predict(xtrain)"
   ]
  },
  {
   "cell_type": "code",
   "execution_count": 13,
   "id": "b701763f",
   "metadata": {},
   "outputs": [],
   "source": [
    "test_predict = rfc.predict(xtest)"
   ]
  },
  {
   "cell_type": "markdown",
   "id": "4ae7baf8",
   "metadata": {},
   "source": [
    "### Evaluate Model"
   ]
  },
  {
   "cell_type": "code",
   "execution_count": 14,
   "id": "c421e9bf",
   "metadata": {},
   "outputs": [],
   "source": [
    "def evaluate_model(act, pred):\n",
    "    print(\"Confusion Matrix \\n\", confusion_matrix(act, pred))\n",
    "    print(\"Accuracy : \", accuracy_score(act, pred))\n",
    "    print(\"Recall   : \", recall_score(act, pred))\n",
    "    print(\"Precision: \", precision_score(act, pred))\n",
    "    print(\"F1_score : \", f1_score(act, pred))"
   ]
  },
  {
   "cell_type": "code",
   "execution_count": 15,
   "id": "1f45cf59",
   "metadata": {},
   "outputs": [
    {
     "name": "stdout",
     "output_type": "stream",
     "text": [
      "----------------train predictions---------------\n",
      "Confusion Matrix \n",
      " [[433   3]\n",
      " [  8 268]]\n",
      "Accuracy :  0.9845505617977528\n",
      "Recall   :  0.9710144927536232\n",
      "Precision:  0.988929889298893\n",
      "F1_score :  0.979890310786106\n",
      "---------------------test predictions----------\n",
      "Confusion Matrix \n",
      " [[101  12]\n",
      " [ 16  50]]\n",
      "Accuracy :  0.8435754189944135\n",
      "Recall   :  0.7575757575757576\n",
      "Precision:  0.8064516129032258\n",
      "F1_score :  0.7812499999999999\n"
     ]
    }
   ],
   "source": [
    "### Train data accuracy\n",
    "print('----------------train predictions---------------')\n",
    "evaluate_model(ytrain, train_predict)\n",
    "\n",
    "### Test data accuracy\n",
    "print('---------------------test predictions----------')\n",
    "evaluate_model(ytest, test_predict)"
   ]
  },
  {
   "cell_type": "markdown",
   "id": "eddbdbf0",
   "metadata": {},
   "source": [
    "## model building using GridearchCV for parameter tunning"
   ]
  },
  {
   "cell_type": "code",
   "execution_count": 34,
   "id": "d7f86efd",
   "metadata": {},
   "outputs": [],
   "source": [
    "grid = param_grid = {\"n_estimators\" : [100, 150],\n",
    "                    \"max_depth\" : [5,10],\n",
    "                    \"max_features\" : [3, 2],\n",
    "                   \"min_samples_leaf\" : [1, 2, 4]}"
   ]
  },
  {
   "cell_type": "code",
   "execution_count": 35,
   "id": "d94eb14d",
   "metadata": {},
   "outputs": [],
   "source": [
    "rf_grid = GridSearchCV(rfc, param_grid=grid)"
   ]
  },
  {
   "cell_type": "code",
   "execution_count": 36,
   "id": "bcfbae6b",
   "metadata": {},
   "outputs": [
    {
     "data": {
      "text/plain": [
       "GridSearchCV(estimator=RandomForestClassifier(),\n",
       "             param_grid={'max_depth': [5, 10], 'max_features': [3, 2],\n",
       "                         'min_samples_leaf': [1, 2, 4],\n",
       "                         'n_estimators': [100, 150]})"
      ]
     },
     "execution_count": 36,
     "metadata": {},
     "output_type": "execute_result"
    }
   ],
   "source": [
    "rf_grid.fit(xtrain, y_train)"
   ]
  },
  {
   "cell_type": "code",
   "execution_count": 37,
   "id": "36a5eb8a",
   "metadata": {},
   "outputs": [
    {
     "data": {
      "text/plain": [
       "{'max_depth': 5, 'max_features': 3, 'min_samples_leaf': 2, 'n_estimators': 150}"
      ]
     },
     "execution_count": 37,
     "metadata": {},
     "output_type": "execute_result"
    }
   ],
   "source": [
    "rf_grid.best_params_"
   ]
  },
  {
   "cell_type": "markdown",
   "id": "ce944c96",
   "metadata": {},
   "source": [
    "### predict"
   ]
  },
  {
   "cell_type": "code",
   "execution_count": 38,
   "id": "e26c6684",
   "metadata": {},
   "outputs": [],
   "source": [
    "train_pred = rf_grid.predict(xtrain)\n",
    "test_pred = rf_grid.predict(xtest)"
   ]
  },
  {
   "cell_type": "markdown",
   "id": "e261f54e",
   "metadata": {},
   "source": [
    "### Evaluate model"
   ]
  },
  {
   "cell_type": "code",
   "execution_count": 39,
   "id": "bf79dd4a",
   "metadata": {},
   "outputs": [
    {
     "name": "stdout",
     "output_type": "stream",
     "text": [
      "----------------train predictions---------------\n",
      "Confusion Matrix \n",
      " [[412  24]\n",
      " [ 86 190]]\n",
      "Accuracy :  0.8455056179775281\n",
      "Recall   :  0.6884057971014492\n",
      "Precision:  0.8878504672897196\n",
      "F1_score :  0.7755102040816327\n",
      "---------------------test predictions----------\n",
      "Confusion Matrix \n",
      " [[104   9]\n",
      " [ 19  47]]\n",
      "Accuracy :  0.8435754189944135\n",
      "Recall   :  0.7121212121212122\n",
      "Precision:  0.8392857142857143\n",
      "F1_score :  0.7704918032786886\n"
     ]
    }
   ],
   "source": [
    "### Train data accuracy\n",
    "print('----------------train predictions---------------')\n",
    "evaluate_model(ytrain, train_pred)\n",
    "\n",
    "### Test data accuracy\n",
    "print('---------------------test predictions----------')\n",
    "evaluate_model(ytest, test_pred)"
   ]
  },
  {
   "cell_type": "markdown",
   "id": "4c2fc2f8",
   "metadata": {},
   "source": [
    "## Export best model"
   ]
  },
  {
   "cell_type": "code",
   "execution_count": 40,
   "id": "a07f8107",
   "metadata": {},
   "outputs": [],
   "source": [
    "# the best model is\n",
    "rf = RandomForestClassifier(max_depth= 5, max_features= 3, min_samples_leaf= 2, n_estimators= 150)"
   ]
  },
  {
   "cell_type": "code",
   "execution_count": 41,
   "id": "6dfeb09f",
   "metadata": {},
   "outputs": [
    {
     "data": {
      "text/plain": [
       "RandomForestClassifier(max_depth=5, max_features=3, min_samples_leaf=2,\n",
       "                       n_estimators=150)"
      ]
     },
     "execution_count": 41,
     "metadata": {},
     "output_type": "execute_result"
    }
   ],
   "source": [
    "rf.fit(xtrain, y_train)"
   ]
  },
  {
   "cell_type": "code",
   "execution_count": 44,
   "id": "88f46369",
   "metadata": {},
   "outputs": [
    {
     "data": {
      "text/plain": [
       "['randomforestclassifier.joblib']"
      ]
     },
     "execution_count": 44,
     "metadata": {},
     "output_type": "execute_result"
    }
   ],
   "source": [
    "joblib.dump(rf_grid,'randomforestclassifier.joblib')"
   ]
  },
  {
   "cell_type": "code",
   "execution_count": null,
   "id": "24813a05",
   "metadata": {},
   "outputs": [],
   "source": []
  }
 ],
 "metadata": {
  "kernelspec": {
   "display_name": "Python 3 (ipykernel)",
   "language": "python",
   "name": "python3"
  },
  "language_info": {
   "codemirror_mode": {
    "name": "ipython",
    "version": 3
   },
   "file_extension": ".py",
   "mimetype": "text/x-python",
   "name": "python",
   "nbconvert_exporter": "python",
   "pygments_lexer": "ipython3",
   "version": "3.9.13"
  }
 },
 "nbformat": 4,
 "nbformat_minor": 5
}
